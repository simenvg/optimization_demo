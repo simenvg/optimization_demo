{
 "cells": [
  {
   "cell_type": "markdown",
   "metadata": {},
   "source": [
    "# Velge kunder for ADC"
   ]
  },
  {
   "cell_type": "markdown",
   "metadata": {},
   "source": [
    "Vi har to ledige konsulenter, og har fått tilbud fra ti kunder om prosjekter der de ønsker hjelp. Alle kundene er desperate og vil ha så mye hjelp som mulig opp til grensen de har satt, dvs. Hvis de bare får to timer i måneden så vil de gjerne ha det, selv om de egentlig kunne tenke seg 60. (Slipper MIP)\n",
    "<br>\n",
    "De to ledige konsulentene har en kapasitet på 200 timer i måneden."
   ]
  },
  {
   "cell_type": "markdown",
   "metadata": {},
   "source": [
    "<table style=\"border-collapse:collapse;border-spacing:0\" class=\"tg\"><tr><th style=\"font-family:Arial, sans-serif;font-size:14px;font-weight:normal;padding:10px 5px;border-style:solid;border-width:1px;overflow:hidden;word-break:normal;border-color:inherit;text-align:left;vertical-align:top\">Kunde</th><th style=\"font-family:Arial, sans-serif;font-size:14px;font-weight:normal;padding:10px 5px;border-style:solid;border-width:1px;overflow:hidden;word-break:normal;border-color:inherit;text-align:left;vertical-align:top\">Timer / måned</th><th style=\"font-family:Arial, sans-serif;font-size:14px;font-weight:normal;padding:10px 5px;border-style:solid;border-width:1px;overflow:hidden;word-break:normal;border-color:inherit;text-align:left;vertical-align:top\">Timespris</th><th style=\"font-family:Arial, sans-serif;font-size:14px;font-weight:normal;padding:10px 5px;border-style:solid;border-width:1px;overflow:hidden;word-break:normal;border-color:black;text-align:left;vertical-align:top\">Morsomhets-faktor</th></tr><tr><td style=\"font-family:Arial, sans-serif;font-size:14px;padding:10px 5px;border-style:solid;border-width:1px;overflow:hidden;word-break:normal;border-color:inherit;text-align:left;vertical-align:top\">X1</td><td style=\"font-family:Arial, sans-serif;font-size:14px;padding:10px 5px;border-style:solid;border-width:1px;overflow:hidden;word-break:normal;border-color:inherit;text-align:center;vertical-align:top\">40</td><td style=\"font-family:Arial, sans-serif;font-size:14px;padding:10px 5px;border-style:solid;border-width:1px;overflow:hidden;word-break:normal;border-color:inherit;text-align:center;vertical-align:top\">700</td><td style=\"font-family:Arial, sans-serif;font-size:14px;padding:10px 5px;border-style:solid;border-width:1px;overflow:hidden;word-break:normal;border-color:black;text-align:center;vertical-align:top\">4</td></tr><tr><td style=\"font-family:Arial, sans-serif;font-size:14px;padding:10px 5px;border-style:solid;border-width:1px;overflow:hidden;word-break:normal;border-color:inherit;text-align:left;vertical-align:top\">X2</td><td style=\"font-family:Arial, sans-serif;font-size:14px;padding:10px 5px;border-style:solid;border-width:1px;overflow:hidden;word-break:normal;border-color:inherit;text-align:center;vertical-align:top\">60</td><td style=\"font-family:Arial, sans-serif;font-size:14px;padding:10px 5px;border-style:solid;border-width:1px;overflow:hidden;word-break:normal;border-color:inherit;text-align:center;vertical-align:top\">1000</td><td style=\"font-family:Arial, sans-serif;font-size:14px;padding:10px 5px;border-style:solid;border-width:1px;overflow:hidden;word-break:normal;border-color:black;text-align:center;vertical-align:top\">3</td></tr><tr><td style=\"font-family:Arial, sans-serif;font-size:14px;padding:10px 5px;border-style:solid;border-width:1px;overflow:hidden;word-break:normal;border-color:black;text-align:left;vertical-align:top\">X3</td><td style=\"font-family:Arial, sans-serif;font-size:14px;padding:10px 5px;border-style:solid;border-width:1px;overflow:hidden;word-break:normal;border-color:black;text-align:center;vertical-align:top\">100</td><td style=\"font-family:Arial, sans-serif;font-size:14px;padding:10px 5px;border-style:solid;border-width:1px;overflow:hidden;word-break:normal;border-color:black;text-align:center;vertical-align:top\">800</td><td style=\"font-family:Arial, sans-serif;font-size:14px;padding:10px 5px;border-style:solid;border-width:1px;overflow:hidden;word-break:normal;border-color:black;text-align:center;vertical-align:top\">2</td></tr><tr><td style=\"font-family:Arial, sans-serif;font-size:14px;padding:10px 5px;border-style:solid;border-width:1px;overflow:hidden;word-break:normal;border-color:black;text-align:left;vertical-align:top\">X4</td><td style=\"font-family:Arial, sans-serif;font-size:14px;padding:10px 5px;border-style:solid;border-width:1px;overflow:hidden;word-break:normal;border-color:black;text-align:center;vertical-align:top\">20</td><td style=\"font-family:Arial, sans-serif;font-size:14px;padding:10px 5px;border-style:solid;border-width:1px;overflow:hidden;word-break:normal;border-color:black;text-align:center;vertical-align:top\">1200</td><td style=\"font-family:Arial, sans-serif;font-size:14px;padding:10px 5px;border-style:solid;border-width:1px;overflow:hidden;word-break:normal;border-color:black;text-align:center;vertical-align:top\">4</td></tr><tr><td style=\"font-family:Arial, sans-serif;font-size:14px;padding:10px 5px;border-style:solid;border-width:1px;overflow:hidden;word-break:normal;border-color:black;text-align:left;vertical-align:top\">X5</td><td style=\"font-family:Arial, sans-serif;font-size:14px;padding:10px 5px;border-style:solid;border-width:1px;overflow:hidden;word-break:normal;border-color:black;text-align:center;vertical-align:top\">20</td><td style=\"font-family:Arial, sans-serif;font-size:14px;padding:10px 5px;border-style:solid;border-width:1px;overflow:hidden;word-break:normal;border-color:black;text-align:center;vertical-align:top\">1100</td><td style=\"font-family:Arial, sans-serif;font-size:14px;padding:10px 5px;border-style:solid;border-width:1px;overflow:hidden;word-break:normal;border-color:black;text-align:center;vertical-align:top\">2</td></tr><tr><td style=\"font-family:Arial, sans-serif;font-size:14px;padding:10px 5px;border-style:solid;border-width:1px;overflow:hidden;word-break:normal;border-color:black;text-align:left;vertical-align:top\">X6</td><td style=\"font-family:Arial, sans-serif;font-size:14px;padding:10px 5px;border-style:solid;border-width:1px;overflow:hidden;word-break:normal;border-color:black;text-align:center;vertical-align:top\">50</td><td style=\"font-family:Arial, sans-serif;font-size:14px;padding:10px 5px;border-style:solid;border-width:1px;overflow:hidden;word-break:normal;border-color:black;text-align:center;vertical-align:top\">1300</td><td style=\"font-family:Arial, sans-serif;font-size:14px;padding:10px 5px;border-style:solid;border-width:1px;overflow:hidden;word-break:normal;border-color:black;text-align:center;vertical-align:top\">1</td></tr><tr><td style=\"font-family:Arial, sans-serif;font-size:14px;padding:10px 5px;border-style:solid;border-width:1px;overflow:hidden;word-break:normal;border-color:black;text-align:left;vertical-align:top\">X7</td><td style=\"font-family:Arial, sans-serif;font-size:14px;padding:10px 5px;border-style:solid;border-width:1px;overflow:hidden;word-break:normal;border-color:black;text-align:center;vertical-align:top\">10</td><td style=\"font-family:Arial, sans-serif;font-size:14px;padding:10px 5px;border-style:solid;border-width:1px;overflow:hidden;word-break:normal;border-color:black;text-align:center;vertical-align:top\">700</td><td style=\"font-family:Arial, sans-serif;font-size:14px;padding:10px 5px;border-style:solid;border-width:1px;overflow:hidden;word-break:normal;border-color:black;text-align:center;vertical-align:top\">5</td></tr><tr><td style=\"font-family:Arial, sans-serif;font-size:14px;padding:10px 5px;border-style:solid;border-width:1px;overflow:hidden;word-break:normal;border-color:black;text-align:left;vertical-align:top\">X8</td><td style=\"font-family:Arial, sans-serif;font-size:14px;padding:10px 5px;border-style:solid;border-width:1px;overflow:hidden;word-break:normal;border-color:black;text-align:center;vertical-align:top\">40</td><td style=\"font-family:Arial, sans-serif;font-size:14px;padding:10px 5px;border-style:solid;border-width:1px;overflow:hidden;word-break:normal;border-color:black;text-align:center;vertical-align:top\">900</td><td style=\"font-family:Arial, sans-serif;font-size:14px;padding:10px 5px;border-style:solid;border-width:1px;overflow:hidden;word-break:normal;border-color:black;text-align:center;vertical-align:top\">2</td></tr><tr><td style=\"font-family:Arial, sans-serif;font-size:14px;padding:10px 5px;border-style:solid;border-width:1px;overflow:hidden;word-break:normal;border-color:black;text-align:left;vertical-align:top\">X9</td><td style=\"font-family:Arial, sans-serif;font-size:14px;padding:10px 5px;border-style:solid;border-width:1px;overflow:hidden;word-break:normal;border-color:black;text-align:center;vertical-align:top\">40</td><td style=\"font-family:Arial, sans-serif;font-size:14px;padding:10px 5px;border-style:solid;border-width:1px;overflow:hidden;word-break:normal;border-color:black;text-align:center;vertical-align:top\">1100</td><td style=\"font-family:Arial, sans-serif;font-size:14px;padding:10px 5px;border-style:solid;border-width:1px;overflow:hidden;word-break:normal;border-color:black;text-align:center;vertical-align:top\">2</td></tr><tr><td style=\"font-family:Arial, sans-serif;font-size:14px;padding:10px 5px;border-style:solid;border-width:1px;overflow:hidden;word-break:normal;border-color:black;text-align:left;vertical-align:top\">X10</td><td style=\"font-family:Arial, sans-serif;font-size:14px;padding:10px 5px;border-style:solid;border-width:1px;overflow:hidden;word-break:normal;border-color:black;text-align:center;vertical-align:top\">80</td><td style=\"font-family:Arial, sans-serif;font-size:14px;padding:10px 5px;border-style:solid;border-width:1px;overflow:hidden;word-break:normal;border-color:black;text-align:center;vertical-align:top\">900</td><td style=\"font-family:Arial, sans-serif;font-size:14px;padding:10px 5px;border-style:solid;border-width:1px;overflow:hidden;word-break:normal;border-color:black;text-align:center;vertical-align:top\">3</td></tr><tr><td style=\"font-family:Arial, sans-serif;font-size:14px;padding:10px 5px;border-style:solid;border-width:1px;overflow:hidden;word-break:normal;border-color:black;text-align:left;vertical-align:top\">TOT</td><td style=\"font-family:Arial, sans-serif;font-size:14px;padding:10px 5px;border-style:solid;border-width:1px;overflow:hidden;word-break:normal;border-color:black;text-align:center;vertical-align:top\">460</td><td style=\"font-family:Arial, sans-serif;font-size:14px;padding:10px 5px;border-style:solid;border-width:1px;overflow:hidden;word-break:normal;border-color:black;text-align:left;vertical-align:top\"></td><td style=\"font-family:Arial, sans-serif;font-size:14px;padding:10px 5px;border-style:solid;border-width:1px;overflow:hidden;word-break:normal;border-color:black;text-align:left;vertical-align:top\"></td></tr></table>"
   ]
  },
  {
   "cell_type": "markdown",
   "metadata": {},
   "source": [
    "De ledige konsulentene er litt kresne på prosjekter, og ønsker at deres totale arbeidsmengde skal ha en morsomhets-faktor på over 2.5.\n",
    "<br>\n",
    "<ul>\n",
    "    <li>Hva er Objective function?</li>\n",
    "    <li>Hva er desicion variables?</li>\n",
    "    <li>Hva er constraints?</li>\n",
    "    <li>Hva er bounds?</li>\n",
    "</ul>\n",
    "    <br>\n",
    "    <br>\n",
    "    <br>\n",
    "    <br>\n",
    "    <br>\n",
    "    <br>\n",
    "    <br>\n",
    "    <br>\n",
    "    <br>\n",
    "    <br>\n",
    "    <br>\n",
    "    <br>\n",
    "    <br>\n",
    "    <br>\n",
    "    <br>\n",
    "    <br>\n",
    "    <br>\n",
    "    <br>\n",
    "    \n",
    "    \n",
    "    \n",
    "    \n",
    "    \n",
    "    \n",
    "    \n",
    "    \n",
    "    \n",
    "    \n",
    "    \n",
    "    \n",
    "    \n",
    "    \n",
    "    \n",
    "    \n",
    "    \n",
    "    \n",
    "    \n",
    "    \n",
    "    \n",
    "    \n",
    "    \n",
    "    \n",
    "    \n",
    "    \n"
   ]
  },
  {
   "cell_type": "markdown",
   "metadata": {},
   "source": [
    "max $f(x) = 700x_1 + 1000x_2 + 800x_3 + 1200x_4 + 1100x_5 + 1300x_6 + 700x_7 + 900x_8 + 1100x_9 + 900x_{10}$ \n",
    "<br>\n",
    "=> min $f(x) = -700x_1 - 1000x_2 - 800x_3 - 1200x_4 - 1100x_5 - 1300x_6 - 700x_7 - 900x_8 - 1100x_9 - 900x_{10}$ \n",
    "<br>\n",
    "<br>\n",
    "<br>\n",
    "Constraint1: $x_1 + x_2 + x_3 + x_4 + x_5 + x_6 + x_7 + x_8 + x_9 + x_{10} = 200$\n",
    "<br>\n",
    "<br>\n",
    "Constraint2: $(4x_1 + 3x_2 + 2x_3 + 4x_4 + 2x_5 + 3x_6 + 5x_7 + 4x_8 + 2x_9 + 3x_{10}) \\frac{1}{200} \\geq 2.5$\n",
    "<br>\n",
    "<br>\n",
    "Bounds:\n",
    "<br>\n",
    "$0 \\leq x_1 \\leq 40$\n",
    "<br>\n",
    "$0 \\leq x_2 \\leq 60$\n",
    "<br>\n",
    "$0 \\leq x_3 \\leq 100$\n",
    "<br>\n",
    "$0 \\leq x_4 \\leq 20$\n",
    "<br>\n",
    "$0 \\leq x_5 \\leq 20$\n",
    "<br>\n",
    "$0 \\leq x_6 \\leq 50$\n",
    "<br>\n",
    "$0 \\leq x_7 \\leq 10$\n",
    "<br>\n",
    "$0 \\leq x_8 \\leq 40$\n",
    "<br>\n",
    "$0 \\leq x_9 \\leq 40$\n",
    "<br>\n",
    "$0 \\leq x_{10} \\leq 60$"
   ]
  },
  {
   "cell_type": "code",
   "execution_count": 36,
   "metadata": {},
   "outputs": [],
   "source": [
    "import numpy as np\n",
    "from scipy.optimize import minimize\n",
    "\n",
    "hourlyPrice = [700, 1000, 800, 1200, 1100, 1200, 700, 900, 1100, 900]\n",
    "funFactor = [4, 3, 2, 4, 2, 3, 5, 4, 2, 3]\n",
    "hoursPerMonth = [40, 60, 100, 20, 20, 50, 10, 40, 40, 60]\n",
    "\n",
    "funFactorLimit = 2.5\n",
    "availableHours = 200\n",
    "\n",
    "def objective(x):\n",
    "    sum = 0\n",
    "    for i in range(0, len(x)):\n",
    "        sum -= hourlyPrice[i]*x[i]\n",
    "    return sum\n",
    "\n",
    "def constraint1(x):\n",
    "    return x[0] + x[1] + x[2] + x[3] + x[4] + x[5] + x[6] + x[7] + x[8] + x[9] - availableHours \n",
    "\n",
    "def constraint2(x):\n",
    "    totalFun = 0\n",
    "    for i in range(0, len(x)):\n",
    "        totalFun += funFactor[i]*x[i]\n",
    "    return totalFun/availableHours - funFactorLimit \n",
    "\n",
    "b1 = (0.0, 40.0)\n",
    "b2 = (0.0, 60.0)\n",
    "b3 = (0.0, 100.0)\n",
    "b4 = (0.0, 20.0)\n",
    "b5 = (0.0, 20.0)\n",
    "b6 = (0.0, 50.0)\n",
    "b7 = (0.0, 10.0)\n",
    "b8 = (0.0, 40.0)\n",
    "b9 = (0.0, 40.0)\n",
    "b10 = (0.0, 60.0)\n",
    "bounds = [b1, b2, b3, b4, b5, b6, b7, b8, b9, b10]\n",
    "constraint1 = {'type': 'eq', 'fun': constraint1}\n",
    "constraint2 = {'type': 'ineq', 'fun': constraint2}\n",
    "cons = [constraint1, constraint2]\n",
    "x0 = [40, 60, 80, 20, 0, 0, 0, 0, 0, 0]\n",
    "\n"
   ]
  },
  {
   "cell_type": "code",
   "execution_count": 37,
   "metadata": {},
   "outputs": [],
   "source": [
    "sol = minimize(objective, x0, method='SLSQP', bounds=bounds, constraints=cons)"
   ]
  },
  {
   "cell_type": "code",
   "execution_count": 38,
   "metadata": {},
   "outputs": [],
   "source": [
    "import math\n",
    "def truncate(number, digits) -> float:\n",
    "    stepper = 10.0 ** digits\n",
    "    return math.trunc(stepper * number) / stepper"
   ]
  },
  {
   "cell_type": "code",
   "execution_count": 39,
   "metadata": {},
   "outputs": [
    {
     "name": "stdout",
     "output_type": "stream",
     "text": [
      "####################################################################\n",
      "Kunde   |  ønsket timer  |  timespris  |  fun factor    |  opt timer\n",
      "0              40            700              4              0.0\n",
      "1              60            1000              3              60.0\n",
      "2              100            800              2              0.0\n",
      "3              20            1200              4              20.0\n",
      "4              20            1100              2              20.0\n",
      "5              50            1200              3              50.0\n",
      "6              10            700              5              0.0\n",
      "7              40            900              4              4.99\n",
      "8              40            1100              2              40.0\n",
      "9              60            900              3              4.99\n",
      "####################################################################\n",
      "Inntekt: 218999.999 kr\n",
      "FunFactor: 2.824999999969195\n"
     ]
    }
   ],
   "source": [
    "def prettyPrintSolution(x_star):\n",
    "    print(\"####################################################################\")\n",
    "    print(\"Kunde   |  ønsket timer  |  timespris  |  fun factor    |  opt timer\")\n",
    "    for i in range(0, len(x_star)):\n",
    "        print(str(i) + \"              \" + str(hoursPerMonth[i]) + \"            \" + str(hourlyPrice[i]) + \"              \" + str(funFactor[i]) + \"              \" + str(truncate(x_star[i],2)))\n",
    "    print(\"####################################################################\")\n",
    "prettyPrintSolution(sol.x)\n",
    "print(\"Inntekt: \" + str(truncate(-sol.fun,3)) + \" kr\")\n",
    "totFun = 0.0\n",
    "for i in range(0, len(sol.x)):\n",
    "    totFun += funFactor[i] * sol.x[i]\n",
    "print(\"FunFactor: \" + str(totFun / 200))"
   ]
  },
  {
   "cell_type": "markdown",
   "metadata": {},
   "source": []
  }
 ],
 "metadata": {
  "kernelspec": {
   "display_name": "Python 3",
   "language": "python",
   "name": "python3"
  },
  "language_info": {
   "codemirror_mode": {
    "name": "ipython",
    "version": 3
   },
   "file_extension": ".py",
   "mimetype": "text/x-python",
   "name": "python",
   "nbconvert_exporter": "python",
   "pygments_lexer": "ipython3",
   "version": "3.7.4"
  }
 },
 "nbformat": 4,
 "nbformat_minor": 4
}
