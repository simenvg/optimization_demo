{
 "cells": [
  {
   "cell_type": "markdown",
   "metadata": {},
   "source": [
    "# Optimization"
   ]
  },
  {
   "cell_type": "markdown",
   "metadata": {},
   "source": [
    "Mål: Kunne gjenkjenne enkle optimeringsproblemer, og ha en viss oversikt over hvordan de kan løses.\n",
    "<br>\n",
    "<br>"
   ]
  },
  {
   "cell_type": "markdown",
   "metadata": {},
   "source": [
    "## Use cases\n",
    "\n",
    "<ul>\n",
    "    <li>Maksimere profitt</li>\n",
    "    <li>Minimere risiko</li>\n",
    "    <li>Maksimere ytelse</li>\n",
    "</ul>\n",
    "\n",
    "\n",
    "<ul>\n",
    "    <li>SpaceX drivstoff</li>\n",
    "    <li>Plassering av vindmøller på et geografisk område</li>\n",
    "    <li>Plassering av stillas ved vedlikehold av oljeplatformer</li>\n",
    "</ul>"
   ]
  },
  {
   "cell_type": "markdown",
   "metadata": {},
   "source": [
    "## Eksempelproblem\n"
   ]
  },
  {
   "cell_type": "code",
   "execution_count": null,
   "metadata": {},
   "outputs": [],
   "source": []
  },
  {
   "cell_type": "markdown",
   "metadata": {},
   "source": [
    "minimize $x$ $f(x)$\n",
    "<br>\n",
    "subject to:\n",
    "<br>\n",
    "$g_i(x) \\leq 0, i = 1,...,m$\n",
    "<br>\n",
    "$h_j(x) = 0, j = 1,...,p$ \n",
    "\n",
    "<br>\n",
    "Forskjellige typer problemer:\n",
    "<ul>\n",
    "    <li>Linear Programming (LP)</li>\n",
    "    <li>Quadratic Programming (QP)</li>\n",
    "    <li>Nonlinear Programming (NLP)</li>\n",
    "    <li>Mixed Integer Linear Programming (MILP)</li>\n",
    "    <li>Mixed Integer Quadratic Programming (MIQP)</li>\n",
    "</ul>"
   ]
  },
  {
   "cell_type": "code",
   "execution_count": null,
   "metadata": {},
   "outputs": [],
   "source": []
  }
 ],
 "metadata": {
  "kernelspec": {
   "display_name": "Python 3",
   "language": "python",
   "name": "python3"
  },
  "language_info": {
   "codemirror_mode": {
    "name": "ipython",
    "version": 3
   },
   "file_extension": ".py",
   "mimetype": "text/x-python",
   "name": "python",
   "nbconvert_exporter": "python",
   "pygments_lexer": "ipython3",
   "version": "3.7.4"
  }
 },
 "nbformat": 4,
 "nbformat_minor": 4
}
