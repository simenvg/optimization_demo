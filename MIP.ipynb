{
 "cells": [
  {
   "cell_type": "code",
   "execution_count": 16,
   "metadata": {},
   "outputs": [],
   "source": [
    "import pulp as pl\n",
    "import collections as cl\n",
    "\n",
    "# data\n",
    "shift_requirements = [1, 4, 3, 5, 2]\n",
    "workers = {\n",
    "    \"Melisandre\": {\n",
    "        \"availability\": [0, 1, 4],\n",
    "        \"cost\": 20\n",
    "    },\n",
    "    \"Bran\": {\n",
    "        \"availability\": [1, 2, 3, 4],\n",
    "        \"cost\": 15\n",
    "    },\n",
    "    \"Cersei\": {\n",
    "        \"availability\": [2, 3],\n",
    "        \"cost\": 35\n",
    "    },\n",
    "    \"Daenerys\": {\n",
    "        \"availability\": [3, 4],\n",
    "        \"cost\": 35\n",
    "    },\n",
    "    \"Theon\": {\n",
    "        \"availability\": [1, 3, 4],\n",
    "        \"cost\": 10\n",
    "    },\n",
    "    \"Jon\": {\n",
    "        \"availability\": [0, 2, 4],\n",
    "        \"cost\": 25\n",
    "    },\n",
    "    \"Tyrion\": {\n",
    "        \"availability\": [1, 3, 4],\n",
    "        \"cost\": 30\n",
    "    },\n",
    "    \"Jaime\": {\n",
    "        \"availability\": [1, 2, 4],\n",
    "        \"cost\": 20\n",
    "    },\n",
    "    \"Arya\": {\n",
    "        \"availability\": [0, 1, 3],\n",
    "        \"cost\": 20\n",
    "    }\n",
    "}"
   ]
  },
  {
   "cell_type": "code",
   "execution_count": 17,
   "metadata": {},
   "outputs": [],
   "source": [
    "# define the model: we want to minimize the cost\n",
    "prob = pl.LpProblem(\"scheduling\", pl.LpMinimize)\n",
    "\n",
    "# some model variables\n",
    "cost = []\n",
    "vars_by_shift = cl.defaultdict(list)\n",
    "\n",
    "for worker, info in workers.items():\n",
    "    for shift in info['availability']:\n",
    "        worker_var = pl.LpVariable(\"%s_%s\" % (worker, shift), 0, 1, pl.LpInteger)\n",
    "        vars_by_shift[shift].append(worker_var)\n",
    "        cost.append(worker_var * info['cost'])\n",
    "\n",
    "# set the objective to be the sum of cost\n",
    "prob += sum(cost)\n",
    "\n",
    "# set the shift requirements\n",
    "for shift, requirement in enumerate(shift_requirements):\n",
    "    prob += sum(vars_by_shift[shift]) >= requirement"
   ]
  },
  {
   "cell_type": "code",
   "execution_count": 18,
   "metadata": {},
   "outputs": [
    {
     "name": "stdout",
     "output_type": "stream",
     "text": [
      "Result: Optimal\n",
      "Shift: 0 workers: Melisandre_0\n",
      "Shift: 1 workers: Bran_1, Theon_1, Jaime_1, Arya_1\n",
      "Shift: 2 workers: Bran_2, Jon_2, Jaime_2\n",
      "Shift: 3 workers: Bran_3, Cersei_3, Theon_3, Tyrion_3, Arya_3\n",
      "Shift: 4 workers: Bran_4, Theon_4\n"
     ]
    }
   ],
   "source": [
    "status = prob.solve()\n",
    "print(\"Result:\", pl.LpStatus[status])\n",
    "results = []\n",
    "for shift, vars in vars_by_shift.items():\n",
    "    results.append({\n",
    "        \"shift\": shift,\n",
    "        \"workers\": [var.name for var in vars if var.varValue == 1],\n",
    "    })\n",
    "\n",
    "for result in sorted(results, key=lambda x: x['shift']):\n",
    "    print(\"Shift:\", result['shift'], 'workers:', ', '.join(result['workers']))"
   ]
  },
  {
   "cell_type": "code",
   "execution_count": null,
   "metadata": {},
   "outputs": [],
   "source": []
  }
 ],
 "metadata": {
  "kernelspec": {
   "display_name": "Python 3",
   "language": "python",
   "name": "python3"
  },
  "language_info": {
   "codemirror_mode": {
    "name": "ipython",
    "version": 3
   },
   "file_extension": ".py",
   "mimetype": "text/x-python",
   "name": "python",
   "nbconvert_exporter": "python",
   "pygments_lexer": "ipython3",
   "version": "3.7.4"
  }
 },
 "nbformat": 4,
 "nbformat_minor": 4
}
