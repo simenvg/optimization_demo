{
 "cells": [
  {
   "cell_type": "markdown",
   "metadata": {},
   "source": [
    "# Optimize farming"
   ]
  },
  {
   "cell_type": "markdown",
   "metadata": {},
   "source": [
    "A farmer has 240 units of land ($km^2$ or whatever)\n",
    "<br>\n",
    "Can grow corn and oats\n",
    "<table style=\"border-collapse:collapse;border-spacing:0\" class=\"tg\"><tr><th style=\"font-family:Arial, sans-serif;font-size:14px;font-weight:normal;padding:10px 5px;border-style:solid;border-width:1px;overflow:hidden;word-break:normal;border-color:black;text-align:left;vertical-align:middle\"></th><th style=\"font-family:Arial, sans-serif;font-size:14px;font-weight:normal;padding:10px 5px;border-style:solid;border-width:1px;overflow:hidden;word-break:normal;border-color:black;text-align:left;vertical-align:middle\">Hours of work / area unit</th><th style=\"font-family:Arial, sans-serif;font-size:14px;font-weight:normal;padding:10px 5px;border-style:solid;border-width:1px;overflow:hidden;word-break:normal;border-color:black;text-align:left;vertical-align:middle\">Profit / area unit</th></tr><tr><td style=\"font-family:Arial, sans-serif;font-size:14px;padding:10px 5px;border-style:solid;border-width:1px;overflow:hidden;word-break:normal;border-color:black;text-align:left;vertical-align:middle\">Corn</td><td style=\"font-family:Arial, sans-serif;font-size:14px;padding:10px 5px;border-style:solid;border-width:1px;overflow:hidden;word-break:normal;border-color:black;text-align:center;vertical-align:middle\">2</td><td style=\"font-family:Arial, sans-serif;font-size:14px;padding:10px 5px;border-style:solid;border-width:1px;overflow:hidden;word-break:normal;border-color:black;text-align:center;vertical-align:middle\">40</td></tr><tr><td style=\"font-family:Arial, sans-serif;font-size:14px;padding:10px 5px;border-style:solid;border-width:1px;overflow:hidden;word-break:normal;border-color:black;text-align:left;vertical-align:middle\">Oats</td><td style=\"font-family:Arial, sans-serif;font-size:14px;padding:10px 5px;border-style:solid;border-width:1px;overflow:hidden;word-break:normal;border-color:black;text-align:center;vertical-align:middle\">1</td><td style=\"font-family:Arial, sans-serif;font-size:14px;padding:10px 5px;border-style:solid;border-width:1px;overflow:hidden;word-break:normal;border-color:black;text-align:center;vertical-align:middle\">30</td></tr></table>\n",
    "\n",
    "The farmer has 320 work hours available\n",
    "<br>\n",
    "How much corn and oats should be planted to maximize profit?\n",
    "\n"
   ]
  },
  {
   "cell_type": "markdown",
   "metadata": {},
   "source": [
    "$Corn = x_1$\n",
    "<br>\n",
    "$Oats = x_2$\n",
    "<br>\n",
    "\n",
    "minimize $x$ $f(x)$\n",
    "<br>\n",
    "subject to:\n",
    "<br>\n",
    "$g_i(x) \\leq 0, i = 1,...,m$\n",
    "<br>\n",
    "$h_j(x) = 0, j = 1,...,p$ \n",
    "<br>\n",
    "<br>\n",
    "<br>\n",
    "<br>\n",
    "<br>\n",
    "<br>\n",
    "<br>\n",
    "<br>\n",
    "<br>\n",
    "<br>\n",
    "<br>\n",
    "<br>\n",
    "<br>\n",
    "<br>\n",
    "<br>\n",
    "<br>\n",
    "<br>\n",
    "<br>\n",
    "<br>\n",
    "<br>\n",
    "<br>\n",
    "<br>\n",
    "<br>\n",
    "<br>\n",
    "<br>\n",
    "<br>\n",
    "<br>\n",
    "<br>\n",
    "<br>\n",
    "<br>\n",
    "<br>\n",
    "<br>\n",
    "<br>\n",
    "<br>\n",
    "<br>\n",
    "<br>\n",
    "\n"
   ]
  },
  {
   "cell_type": "markdown",
   "metadata": {},
   "source": [
    "Objective: max $f(x) = 40x_1 + 30x_2$\n",
    "<br>\n",
    "constraint1: $2x_1 + x_2 \\leq 320$\n",
    "<br>\n",
    "constraint2: $x_1 + x_2 \\leq 240$\n",
    "<br>\n",
    "bounds: $x_1, x_2 \\geq 0$\n",
    "<br>\n",
    "<br>\n",
    "We need the inequality constraints to be on the form $Ax_1 + Bx_2 + C \\geq 0$\n",
    "<br>\n",
    "constraint1: $-2x_1 - x_2 + 320 \\geq 0$\n",
    "<br>\n",
    "constraint2: $-x_1 - x_2 + 240 \\geq 0$\n",
    "<br>\n",
    "Also, in optimization we want to minimize the objective function, here we want to maximize.\n",
    "<br>\n",
    "max$f(x) = 40x_1 + 30x_2$  =  min$f(x) = -40x_1 - 30x_2$\n"
   ]
  },
  {
   "cell_type": "code",
   "execution_count": 5,
   "metadata": {},
   "outputs": [],
   "source": [
    "import numpy as np\n",
    "from scipy.optimize import minimize"
   ]
  },
  {
   "cell_type": "code",
   "execution_count": 22,
   "metadata": {},
   "outputs": [],
   "source": [
    "def objective(x):\n",
    "    return -40*x[0] - 30*x[1]\n",
    "\n",
    "def constraint1(x):\n",
    "    return -2*x[0] - x[1] + 320\n",
    "\n",
    "def constraint2(x):\n",
    "    return -x[0] - x[1] + 240\n",
    "\n",
    "b = (0.0, np.inf)\n",
    "bounds = [b, b]\n",
    "constraint1 = {'type': 'ineq', 'fun': constraint1}\n",
    "constraint2 = {'type': 'ineq', 'fun': constraint2}\n",
    "cons = [constraint1, constraint2]\n",
    "x0 = [0, 240]\n",
    "    "
   ]
  },
  {
   "cell_type": "code",
   "execution_count": 23,
   "metadata": {},
   "outputs": [],
   "source": [
    "sol = minimize(objective, x0, method='SLSQP', bounds=bounds, constraints=cons)"
   ]
  },
  {
   "cell_type": "code",
   "execution_count": 24,
   "metadata": {},
   "outputs": [
    {
     "name": "stdout",
     "output_type": "stream",
     "text": [
      "     fun: -7999.999999999714\n",
      "     jac: array([-40., -30.])\n",
      " message: 'Optimization terminated successfully.'\n",
      "    nfev: 16\n",
      "     nit: 4\n",
      "    njev: 4\n",
      "  status: 0\n",
      " success: True\n",
      "       x: array([ 80., 160.])\n"
     ]
    }
   ],
   "source": [
    "print(sol)"
   ]
  },
  {
   "cell_type": "code",
   "execution_count": null,
   "metadata": {},
   "outputs": [],
   "source": []
  }
 ],
 "metadata": {
  "kernelspec": {
   "display_name": "Python 3",
   "language": "python",
   "name": "python3"
  },
  "language_info": {
   "codemirror_mode": {
    "name": "ipython",
    "version": 3
   },
   "file_extension": ".py",
   "mimetype": "text/x-python",
   "name": "python",
   "nbconvert_exporter": "python",
   "pygments_lexer": "ipython3",
   "version": "3.7.4"
  }
 },
 "nbformat": 4,
 "nbformat_minor": 4
}
