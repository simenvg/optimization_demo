{
 "cells": [
  {
   "cell_type": "markdown",
   "metadata": {},
   "source": [
    "# Linear Programming in Python"
   ]
  },
  {
   "cell_type": "code",
   "execution_count": 1,
   "metadata": {},
   "outputs": [],
   "source": [
    "import numpy as np\n",
    "from scipy.optimize import minimize"
   ]
  },
  {
   "cell_type": "markdown",
   "metadata": {},
   "source": [
    " $$min x_1 x_4 (x_1 + x_2 + x_3) + x_3$$ \n",
    " $$s.t. x_1 x_2 x_3 x_4 \\geq 25$$\n",
    " $$x_1^2 + x_2^2 + x_3^2 + x_4^2 = 40 $$\n",
    " $$ 1 \\leq x_1,x_2,x_3,x_4 \\leq 5 $$\n",
    " $$ x_0 = (1,5,5,1)$$\n"
   ]
  },
  {
   "cell_type": "code",
   "execution_count": 5,
   "metadata": {},
   "outputs": [],
   "source": [
    "def objective(x):\n",
    "    x1 = x[0]\n",
    "    x2 = x[1]\n",
    "    x3 = x[2]\n",
    "    x4 = x[3]\n",
    "    return x1 * x4 * (x1 +x2 + x3) + x3\n",
    "\n",
    "def constraint1(x):\n",
    "    return x[0] + x[1] + x[2] + x[3] - 25.0\n",
    "\n",
    "def constraint2(x):\n",
    "    sum_sq = 40\n",
    "    for elem in x:\n",
    "        sum_sq = sum_sq - elem**2\n",
    "    return sum_sq\n",
    "        "
   ]
  },
  {
   "cell_type": "code",
   "execution_count": 6,
   "metadata": {},
   "outputs": [
    {
     "name": "stdout",
     "output_type": "stream",
     "text": [
      "16\n"
     ]
    }
   ],
   "source": [
    "x0 = [1,5,5,1]\n",
    "print(objective(x0))"
   ]
  },
  {
   "cell_type": "code",
   "execution_count": 9,
   "metadata": {},
   "outputs": [],
   "source": [
    "b = (1.0, 5.0)\n",
    "bounds = (b,b,b,b)\n",
    "con1 = {'type': 'ineq', 'fun': constraint1}\n",
    "con2 = {'type': 'eq', 'fun': constraint2}\n",
    "cons = [con1, con2]"
   ]
  },
  {
   "cell_type": "code",
   "execution_count": 11,
   "metadata": {},
   "outputs": [],
   "source": [
    "sol = minimize(objective, x0, method='SLSQP', bounds=bounds, constraints=cons)"
   ]
  },
  {
   "cell_type": "code",
   "execution_count": 12,
   "metadata": {},
   "outputs": [
    {
     "name": "stdout",
     "output_type": "stream",
     "text": [
      "     fun: 312.8028631094899\n",
      "     jac: array([88.90085602, 21.36149979, 22.36149979, 65.70070648])\n",
      " message: 'Positive directional derivative for linesearch'\n",
      "    nfev: 226\n",
      "     nit: 28\n",
      "    njev: 24\n",
      "  status: 8\n",
      " success: False\n",
      "       x: array([4.55850487, 4.9298842 , 4.92438549, 4.68607584])\n"
     ]
    }
   ],
   "source": [
    "print(sol)"
   ]
  },
  {
   "cell_type": "code",
   "execution_count": null,
   "metadata": {},
   "outputs": [],
   "source": []
  }
 ],
 "metadata": {
  "kernelspec": {
   "display_name": "Python 3",
   "language": "python",
   "name": "python3"
  },
  "language_info": {
   "codemirror_mode": {
    "name": "ipython",
    "version": 3
   },
   "file_extension": ".py",
   "mimetype": "text/x-python",
   "name": "python",
   "nbconvert_exporter": "python",
   "pygments_lexer": "ipython3",
   "version": "3.7.4"
  }
 },
 "nbformat": 4,
 "nbformat_minor": 4
}
